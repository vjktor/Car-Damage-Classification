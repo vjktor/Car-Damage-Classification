{
 "cells": [
  {
   "cell_type": "code",
   "execution_count": 27,
   "metadata": {
    "run_control": {
     "marked": true
    }
   },
   "outputs": [],
   "source": [
    "import matplotlib.pyplot as plt\n",
    "import pandas as pd\n",
    "import numpy as np\n",
    "import os\n",
    "import cv2\n",
    "from tqdm import tqdm\n",
    "\n",
    "TRAINDATADIR = \"D:/Deep Learning/car-damage-dataset/data1a/training\"\n",
    "TESTDATADIR = \"D:/Deep Learning/car-damage-dataset/data1a/validation\"\n",
    "CATEGORIES=os.listdir(TRAINDATADIR)"
   ]
  },
  {
   "cell_type": "code",
   "execution_count": 28,
   "metadata": {},
   "outputs": [
    {
     "data": {
      "text/plain": [
       "['00-damage', '01-whole']"
      ]
     },
     "execution_count": 28,
     "metadata": {},
     "output_type": "execute_result"
    }
   ],
   "source": [
    "CATEGORIES"
   ]
  },
  {
   "cell_type": "code",
   "execution_count": 103,
   "metadata": {},
   "outputs": [
    {
     "name": "stderr",
     "output_type": "stream",
     "text": [
      "100%|███████████████████████████████████████████████████████████████████████████████| 230/230 [00:02<00:00, 104.05it/s]\n",
      "100%|████████████████████████████████████████████████████████████████████████████████| 230/230 [00:04<00:00, 52.82it/s]"
     ]
    },
    {
     "name": "stdout",
     "output_type": "stream",
     "text": [
      "460\n"
     ]
    },
    {
     "name": "stderr",
     "output_type": "stream",
     "text": [
      "\n"
     ]
    }
   ],
   "source": [
    "testing_data = []\n",
    "TESTDATA = \"D:/Deep Learning/car-damage-dataset/data1a/validation/\"\n",
    "CATEGORIES=['00-damage', '01-whole']\n",
    "IMG_SIZE=300\n",
    "import os\n",
    "import cv2\n",
    "from tqdm import tqdm\n",
    "def create_testing_data():\n",
    "    for category in CATEGORIES:  # do dogs and cats\n",
    "\n",
    "        path = os.path.join(TESTDATA,category)  # create path to dogs and cats\n",
    "        class_num = CATEGORIES.index(category)  # get the classification  (0 or a 1). 0=dog 1=cat\n",
    "\n",
    "        for img in tqdm(os.listdir(path)):  # iterate over each image per dogs and cats\n",
    "            try:\n",
    "                img_array = cv2.imread(os.path.join(path,img))  \n",
    "                # convert to array\n",
    "                new_array = cv2.resize(img_array, (IMG_SIZE, IMG_SIZE))  # resize to normalize data size\n",
    "                testing_data.append([new_array, class_num])  # add this to our training_data\n",
    "            except Exception as e:  # in the interest in keeping the output clean...\n",
    "                pass\n",
    "            #except OSError as e:\n",
    "            #    print(\"OSErrroBad img most likely\", e, os.path.join(path,img))\n",
    "            #except Exception as e:\n",
    "            #    print(\"general exception\", e, os.path.join(path,img))\n",
    "\n",
    "create_testing_data()\n",
    "\n",
    "print(len(testing_data))"
   ]
  },
  {
   "cell_type": "code",
   "execution_count": 29,
   "metadata": {},
   "outputs": [],
   "source": [
    "from tensorflow.keras.callbacks import ModelCheckpoint, EarlyStopping, TensorBoard\n",
    "from tensorflow.keras.preprocessing.image import ImageDataGenerator\n",
    "from tensorflow.keras.models import Sequential\n",
    "from tensorflow.keras.layers import Dense, Dropout, Activation, Flatten\n",
    "from tensorflow.keras.layers import Conv2D, MaxPooling2D\n",
    "from tensorflow.keras.models import Model\n",
    "from tensorflow.keras.applications import MobileNet\n",
    "from tensorflow.keras.optimizers import Adam as Adam"
   ]
  },
  {
   "cell_type": "code",
   "execution_count": 30,
   "metadata": {},
   "outputs": [
    {
     "name": "stdout",
     "output_type": "stream",
     "text": [
      "Found 1472 images belonging to 2 classes.\n",
      "Found 368 images belonging to 2 classes.\n"
     ]
    }
   ],
   "source": [
    "train_datagen = ImageDataGenerator(rescale=1./255, validation_split=0.2)\n",
    "train_generator = train_datagen.flow_from_directory(\n",
    "    TRAINDATADIR,\n",
    "    target_size=(300, 300),\n",
    "    batch_size=16,\n",
    "    class_mode='categorical',\n",
    "    subset='training')\n",
    "\n",
    "validation_generator = train_datagen.flow_from_directory(\n",
    "    TRAINDATADIR,\n",
    "    target_size=(300, 300),\n",
    "    batch_size=16,\n",
    "    class_mode='categorical',\n",
    "    subset='validation')"
   ]
  },
  {
   "cell_type": "code",
   "execution_count": 31,
   "metadata": {},
   "outputs": [
    {
     "name": "stdout",
     "output_type": "stream",
     "text": [
      "Found 460 images belonging to 2 classes.\n"
     ]
    }
   ],
   "source": [
    "test_datagen = ImageDataGenerator(rescale=1./255)\n",
    "\n",
    "testing_generator = test_datagen.flow_from_directory(\n",
    "    TESTDATADIR,\n",
    "    shuffle=True,\n",
    "    target_size=(300, 300),\n",
    "    batch_size=16,\n",
    "    class_mode='categorical')"
   ]
  },
  {
   "cell_type": "markdown",
   "metadata": {},
   "source": [
    "## lr = 0.0000001"
   ]
  },
  {
   "cell_type": "code",
   "execution_count": 91,
   "metadata": {},
   "outputs": [],
   "source": [
    "def build_model():\n",
    "    model = MobileNet(weights=\"imagenet\", include_top=False, input_shape=(300, 300, 3), pooling='avg')\n",
    "    for layer in model.layers[:-2]:\n",
    "        layer.trainable = False\n",
    "        predictions = Dense(2, activation=\"softmax\")(model.output)\n",
    "        model_final = Model(inputs=model.input, outputs=predictions)\n",
    "    return model_final\n",
    "\n",
    "model_final = build_model()\n",
    "# compile the model\n",
    "model_final.compile(loss=\"categorical_crossentropy\", optimizer= Adam(lr = 0.00005), metrics=[\"accuracy\"])"
   ]
  },
  {
   "cell_type": "code",
   "execution_count": 92,
   "metadata": {},
   "outputs": [],
   "source": [
    "checkpoint = ModelCheckpoint(\"MobileNet_Car_Classifier.h5\", monitor='val_loss', verbose=1, save_best_only=True,\n",
    "                             save_weights_only=False,\n",
    "                             mode='auto', period=1)\n",
    "early = EarlyStopping(monitor='val_loss', min_delta=0, patience=10, verbose=1, mode='auto')"
   ]
  },
  {
   "cell_type": "code",
   "execution_count": 93,
   "metadata": {},
   "outputs": [
    {
     "data": {
      "text/plain": [
       "array([1., 1.])"
      ]
     },
     "execution_count": 93,
     "metadata": {},
     "output_type": "execute_result"
    }
   ],
   "source": [
    "from sklearn.utils import class_weight\n",
    "class_weights = class_weight.compute_class_weight(\n",
    "           'balanced',\n",
    "            np.unique(train_generator.classes), \n",
    "            train_generator.classes)\n",
    "class_weights"
   ]
  },
  {
   "cell_type": "code",
   "execution_count": 94,
   "metadata": {},
   "outputs": [
    {
     "name": "stdout",
     "output_type": "stream",
     "text": [
      "Epoch 1/10\n",
      "23/23 [==============================] - 19s 821ms/step - loss: 0.6311 - acc: 0.6739\n",
      "\n",
      "Epoch 00001: val_loss improved from inf to 0.63115, saving model to MobileNet_Car_Classifier.h5\n",
      "92/92 [==============================] - 271s 3s/step - loss: 0.7583 - acc: 0.5856 - val_loss: 0.6311 - val_acc: 0.6739\n",
      "Epoch 2/10\n",
      "23/23 [==============================] - 18s 789ms/step - loss: 0.5256 - acc: 0.7473\n",
      "\n",
      "Epoch 00002: val_loss improved from 0.63115 to 0.52561, saving model to MobileNet_Car_Classifier.h5\n",
      "92/92 [==============================] - 253s 3s/step - loss: 0.5916 - acc: 0.7072 - val_loss: 0.5256 - val_acc: 0.7473\n",
      "Epoch 3/10\n",
      "23/23 [==============================] - 18s 794ms/step - loss: 0.4466 - acc: 0.7935\n",
      "\n",
      "Epoch 00003: val_loss improved from 0.52561 to 0.44663, saving model to MobileNet_Car_Classifier.h5\n",
      "92/92 [==============================] - 252s 3s/step - loss: 0.5210 - acc: 0.7446 - val_loss: 0.4466 - val_acc: 0.7935\n",
      "Epoch 4/10\n",
      "23/23 [==============================] - 18s 794ms/step - loss: 0.3979 - acc: 0.8261\n",
      "\n",
      "Epoch 00004: val_loss improved from 0.44663 to 0.39792, saving model to MobileNet_Car_Classifier.h5\n",
      "92/92 [==============================] - 253s 3s/step - loss: 0.4750 - acc: 0.7935 - val_loss: 0.3979 - val_acc: 0.8261\n",
      "Epoch 5/10\n",
      "23/23 [==============================] - 18s 791ms/step - loss: 0.3608 - acc: 0.8668\n",
      "\n",
      "Epoch 00005: val_loss improved from 0.39792 to 0.36083, saving model to MobileNet_Car_Classifier.h5\n",
      "92/92 [==============================] - 252s 3s/step - loss: 0.4311 - acc: 0.8200 - val_loss: 0.3608 - val_acc: 0.8668\n",
      "Epoch 6/10\n",
      "23/23 [==============================] - 18s 792ms/step - loss: 0.3378 - acc: 0.8641\n",
      "\n",
      "Epoch 00006: val_loss improved from 0.36083 to 0.33782, saving model to MobileNet_Car_Classifier.h5\n",
      "92/92 [==============================] - 255s 3s/step - loss: 0.4168 - acc: 0.8295 - val_loss: 0.3378 - val_acc: 0.8641\n",
      "Epoch 7/10\n",
      "23/23 [==============================] - 18s 791ms/step - loss: 0.3320 - acc: 0.8478\n",
      "\n",
      "Epoch 00007: val_loss improved from 0.33782 to 0.33201, saving model to MobileNet_Car_Classifier.h5\n",
      "92/92 [==============================] - 252s 3s/step - loss: 0.3877 - acc: 0.8485 - val_loss: 0.3320 - val_acc: 0.8478\n",
      "Epoch 8/10\n",
      "23/23 [==============================] - 18s 791ms/step - loss: 0.3193 - acc: 0.8614\n",
      "\n",
      "Epoch 00008: val_loss improved from 0.33201 to 0.31925, saving model to MobileNet_Car_Classifier.h5\n",
      "92/92 [==============================] - 252s 3s/step - loss: 0.3716 - acc: 0.8431 - val_loss: 0.3193 - val_acc: 0.8614\n",
      "Epoch 9/10\n",
      "23/23 [==============================] - 18s 790ms/step - loss: 0.3226 - acc: 0.8614\n",
      "\n",
      "Epoch 00009: val_loss did not improve from 0.31925\n",
      "92/92 [==============================] - 257s 3s/step - loss: 0.3606 - acc: 0.8458 - val_loss: 0.3226 - val_acc: 0.8614\n",
      "Epoch 10/10\n",
      "23/23 [==============================] - 18s 796ms/step - loss: 0.3274 - acc: 0.8560\n",
      "\n",
      "Epoch 00010: val_loss did not improve from 0.31925\n",
      "92/92 [==============================] - 254s 3s/step - loss: 0.3539 - acc: 0.8560 - val_loss: 0.3274 - val_acc: 0.8560\n"
     ]
    },
    {
     "data": {
      "text/plain": [
       "<tensorflow.python.keras.callbacks.History at 0x20e1f7b0608>"
      ]
     },
     "execution_count": 94,
     "metadata": {},
     "output_type": "execute_result"
    }
   ],
   "source": [
    "model_final.fit_generator(\n",
    "    train_generator,\n",
    "    steps_per_epoch = train_generator.samples // 16,\n",
    "    epochs = 10,\n",
    "    validation_data=validation_generator,\n",
    "    validation_steps = validation_generator.samples // 16,\n",
    "    workers=16,\n",
    "    callbacks=[checkpoint, early])"
   ]
  },
  {
   "cell_type": "code",
   "execution_count": 95,
   "metadata": {},
   "outputs": [
    {
     "data": {
      "text/plain": [
       "[<matplotlib.lines.Line2D at 0x20e209c68c8>]"
      ]
     },
     "execution_count": 95,
     "metadata": {},
     "output_type": "execute_result"
    },
    {
     "data": {
      "image/png": "[encoded data removed]",
      "text/plain": [
       "<Figure size 432x288 with 1 Axes>"
      ]
     },
     "metadata": {
      "needs_background": "light"
     },
     "output_type": "display_data"
    }
   ],
   "source": [
    "import seaborn as sns\n",
    "loss=pd.DataFrame(model_final.history.history)\n",
    "plt.plot(loss['loss'])\n",
    "plt.plot(loss['val_loss'])"
   ]
  },
  {
   "cell_type": "code",
   "execution_count": 96,
   "metadata": {},
   "outputs": [
    {
     "data": {
      "text/plain": [
       "[<matplotlib.lines.Line2D at 0x20e0ec3af88>]"
      ]
     },
     "execution_count": 96,
     "metadata": {},
     "output_type": "execute_result"
    },
    {
     "data": {
      "image/png": "[encoded data removed]",
      "text/plain": [
       "<Figure size 432x288 with 1 Axes>"
      ]
     },
     "metadata": {
      "needs_background": "light"
     },
     "output_type": "display_data"
    }
   ],
   "source": [
    "plt.plot(loss['acc'])\n",
    "plt.plot(loss['val_acc'])"
   ]
  },
  {
   "cell_type": "code",
   "execution_count": 104,
   "metadata": {},
   "outputs": [],
   "source": [
    "Xtest = []\n",
    "ytest = []\n",
    "\n",
    "for features,label in testing_data:\n",
    "    Xtest.append(features)\n",
    "    ytest.append(label)\n",
    "Xtest = np.array(Xtest).reshape(-1, IMG_SIZE, IMG_SIZE, 3)\n",
    "Xtest = Xtest/255.0\n",
    "ytest=np.array(ytest)"
   ]
  },
  {
   "cell_type": "code",
   "execution_count": 105,
   "metadata": {},
   "outputs": [],
   "source": [
    "from tensorflow.keras.utils import to_categorical\n",
    "ytest = to_categorical(ytest,2)"
   ]
  },
  {
   "cell_type": "code",
   "execution_count": 106,
   "metadata": {},
   "outputs": [],
   "source": [
    "pred=model_final.predict(Xtest)"
   ]
  },
  {
   "cell_type": "code",
   "execution_count": 107,
   "metadata": {},
   "outputs": [],
   "source": [
    "y_classes = pred.argmax(axis=-1)"
   ]
  },
  {
   "cell_type": "code",
   "execution_count": 108,
   "metadata": {},
   "outputs": [
    {
     "name": "stdout",
     "output_type": "stream",
     "text": [
      "[[184  46]\n",
      " [ 16 214]]\n"
     ]
    },
    {
     "data": {
      "text/plain": [
       "0.8652173913043478"
      ]
     },
     "execution_count": 108,
     "metadata": {},
     "output_type": "execute_result"
    }
   ],
   "source": [
    "from sklearn.metrics import classification_report, confusion_matrix, accuracy_score\n",
    "print(confusion_matrix(ytest.argmax(axis=-1), y_classes))\n",
    "accuracy_score(ytest.argmax(axis=-1), y_classes)"
   ]
  },
  {
   "cell_type": "markdown",
   "metadata": {},
   "source": [
    "## lr = 0.00001"
   ]
  },
  {
   "cell_type": "code",
   "execution_count": 32,
   "metadata": {},
   "outputs": [],
   "source": [
    "def build_model():\n",
    "    model = MobileNet(weights=\"imagenet\", include_top=False, input_shape=(300, 300, 3), pooling='avg')\n",
    "    for layer in model.layers[:-2]:\n",
    "        layer.trainable = False\n",
    "        predictions = Dense(2, activation=\"softmax\")(model.output)\n",
    "        model_final = Model(inputs=model.input, outputs=predictions)\n",
    "    return model_final\n",
    "\n",
    "model_final = build_model()\n",
    "# compile the model\n",
    "model_final.compile(loss=\"categorical_crossentropy\", optimizer= Adam(lr = 0.00001), metrics=[\"accuracy\"])"
   ]
  },
  {
   "cell_type": "code",
   "execution_count": 33,
   "metadata": {},
   "outputs": [],
   "source": [
    "checkpoint = ModelCheckpoint(\"MobileNet_Car_Classifier.h5\", monitor='val_loss', verbose=1, save_best_only=True,\n",
    "                             save_weights_only=False,\n",
    "                             mode='auto', period=1)\n",
    "early = EarlyStopping(monitor='val_loss', min_delta=0, patience=10, verbose=1, mode='auto')"
   ]
  },
  {
   "cell_type": "code",
   "execution_count": 10,
   "metadata": {},
   "outputs": [
    {
     "data": {
      "text/plain": [
       "array([1., 1.])"
      ]
     },
     "execution_count": 10,
     "metadata": {},
     "output_type": "execute_result"
    }
   ],
   "source": [
    "from sklearn.utils import class_weight\n",
    "class_weights = class_weight.compute_class_weight(\n",
    "           'balanced',\n",
    "            np.unique(train_generator.classes), \n",
    "            train_generator.classes)\n",
    "class_weights"
   ]
  },
  {
   "cell_type": "code",
   "execution_count": 34,
   "metadata": {},
   "outputs": [
    {
     "name": "stdout",
     "output_type": "stream",
     "text": [
      "Epoch 1/10\n",
      "23/23 [==============================] - 18s 800ms/step - loss: 0.6422 - acc: 0.6630\n",
      "\n",
      "Epoch 00001: val_loss improved from inf to 0.64221, saving model to MobileNet_Car_Classifier.h5\n",
      "92/92 [==============================] - 268s 3s/step - loss: 0.6586 - acc: 0.6202 - val_loss: 0.6422 - val_acc: 0.6630\n",
      "Epoch 2/10\n",
      "23/23 [==============================] - 17s 757ms/step - loss: 0.6180 - acc: 0.6712\n",
      "\n",
      "Epoch 00002: val_loss improved from 0.64221 to 0.61802, saving model to MobileNet_Car_Classifier.h5\n",
      "92/92 [==============================] - 244s 3s/step - loss: 0.6123 - acc: 0.6726 - val_loss: 0.6180 - val_acc: 0.6712\n",
      "Epoch 3/10\n",
      "23/23 [==============================] - 36s 2s/step - loss: 0.6007 - acc: 0.6875\n",
      "\n",
      "Epoch 00003: val_loss improved from 0.61802 to 0.60066, saving model to MobileNet_Car_Classifier.h5\n",
      "92/92 [==============================] - 485s 5s/step - loss: 0.5994 - acc: 0.6929 - val_loss: 0.6007 - val_acc: 0.6875\n",
      "Epoch 4/10\n",
      "23/23 [==============================] - 37s 2s/step - loss: 0.5869 - acc: 0.6957\n",
      "\n",
      "Epoch 00004: val_loss improved from 0.60066 to 0.58688, saving model to MobileNet_Car_Classifier.h5\n",
      "92/92 [==============================] - 477s 5s/step - loss: 0.5713 - acc: 0.7058 - val_loss: 0.5869 - val_acc: 0.6957\n",
      "Epoch 5/10\n",
      "23/23 [==============================] - 36s 2s/step - loss: 0.5766 - acc: 0.7174\n",
      "\n",
      "Epoch 00005: val_loss improved from 0.58688 to 0.57657, saving model to MobileNet_Car_Classifier.h5\n",
      "92/92 [==============================] - 478s 5s/step - loss: 0.5596 - acc: 0.7160 - val_loss: 0.5766 - val_acc: 0.7174\n",
      "Epoch 6/10\n",
      "23/23 [==============================] - 36s 2s/step - loss: 0.5668 - acc: 0.7283\n",
      "\n",
      "Epoch 00006: val_loss improved from 0.57657 to 0.56684, saving model to MobileNet_Car_Classifier.h5\n",
      "92/92 [==============================] - 474s 5s/step - loss: 0.5371 - acc: 0.7181 - val_loss: 0.5668 - val_acc: 0.7283\n",
      "Epoch 7/10\n",
      "23/23 [==============================] - 36s 2s/step - loss: 0.5584 - acc: 0.7364\n",
      "\n",
      "Epoch 00007: val_loss improved from 0.56684 to 0.55838, saving model to MobileNet_Car_Classifier.h5\n",
      "92/92 [==============================] - 479s 5s/step - loss: 0.5220 - acc: 0.7527 - val_loss: 0.5584 - val_acc: 0.7364\n",
      "Epoch 8/10\n",
      "23/23 [==============================] - 36s 2s/step - loss: 0.5483 - acc: 0.7500\n",
      "\n",
      "Epoch 00008: val_loss improved from 0.55838 to 0.54825, saving model to MobileNet_Car_Classifier.h5\n",
      "92/92 [==============================] - 478s 5s/step - loss: 0.5079 - acc: 0.7493 - val_loss: 0.5483 - val_acc: 0.7500\n",
      "Epoch 9/10\n",
      "23/23 [==============================] - 37s 2s/step - loss: 0.5432 - acc: 0.7500\n",
      "\n",
      "Epoch 00009: val_loss improved from 0.54825 to 0.54316, saving model to MobileNet_Car_Classifier.h5\n",
      "92/92 [==============================] - 498s 5s/step - loss: 0.5049 - acc: 0.7663 - val_loss: 0.5432 - val_acc: 0.7500\n",
      "Epoch 10/10\n",
      "23/23 [==============================] - 37s 2s/step - loss: 0.5392 - acc: 0.7473\n",
      "\n",
      "Epoch 00010: val_loss improved from 0.54316 to 0.53919, saving model to MobileNet_Car_Classifier.h5\n",
      "92/92 [==============================] - 503s 5s/step - loss: 0.4868 - acc: 0.7806 - val_loss: 0.5392 - val_acc: 0.7473\n"
     ]
    },
    {
     "data": {
      "text/plain": [
       "<tensorflow.python.keras.callbacks.History at 0x20dafc02b08>"
      ]
     },
     "execution_count": 34,
     "metadata": {},
     "output_type": "execute_result"
    }
   ],
   "source": [
    "model_final.fit_generator(\n",
    "    train_generator,\n",
    "    steps_per_epoch = train_generator.samples // 16,\n",
    "    epochs = 10,\n",
    "    validation_data=validation_generator,\n",
    "    validation_steps = validation_generator.samples // 16,\n",
    "    workers=16,\n",
    "    callbacks=[checkpoint, early])"
   ]
  },
  {
   "cell_type": "code",
   "execution_count": 35,
   "metadata": {},
   "outputs": [
    {
     "data": {
      "text/plain": [
       "[<matplotlib.lines.Line2D at 0x20dafd18c08>]"
      ]
     },
     "execution_count": 35,
     "metadata": {},
     "output_type": "execute_result"
    },
    {
     "data": {
      "image/png": "[encoded data removed]",
      "text/plain": [
       "<Figure size 432x288 with 1 Axes>"
      ]
     },
     "metadata": {
      "needs_background": "light"
     },
     "output_type": "display_data"
    }
   ],
   "source": [
    "import seaborn as sns\n",
    "loss=pd.DataFrame(model_final.history.history)\n",
    "plt.plot(loss['loss'])\n",
    "plt.plot(loss['val_loss'])"
   ]
  },
  {
   "cell_type": "code",
   "execution_count": 36,
   "metadata": {},
   "outputs": [
    {
     "data": {
      "text/plain": [
       "[<matplotlib.lines.Line2D at 0x20dafdd69c8>]"
      ]
     },
     "execution_count": 36,
     "metadata": {},
     "output_type": "execute_result"
    },
    {
     "data": {
      "image/png": "[encoded data removed]",
      "text/plain": [
       "<Figure size 432x288 with 1 Axes>"
      ]
     },
     "metadata": {
      "needs_background": "light"
     },
     "output_type": "display_data"
    }
   ],
   "source": [
    "plt.plot(loss['acc'])\n",
    "plt.plot(loss['val_acc'])"
   ]
  },
  {
   "cell_type": "code",
   "execution_count": 67,
   "metadata": {},
   "outputs": [
    {
     "name": "stdout",
     "output_type": "stream",
     "text": [
      "[[[[240]\n",
      "   [241]\n",
      "   [239]\n",
      "   ...\n",
      "   [201]\n",
      "   [197]\n",
      "   [202]]\n",
      "\n",
      "  [[193]\n",
      "   [189]\n",
      "   [193]\n",
      "   ...\n",
      "   [ 48]\n",
      "   [ 78]\n",
      "   [ 73]]\n",
      "\n",
      "  [[ 62]\n",
      "   [ 87]\n",
      "   [ 83]\n",
      "   ...\n",
      "   [225]\n",
      "   [219]\n",
      "   [220]]\n",
      "\n",
      "  ...\n",
      "\n",
      "  [[154]\n",
      "   [171]\n",
      "   [170]\n",
      "   ...\n",
      "   [110]\n",
      "   [115]\n",
      "   [112]]\n",
      "\n",
      "  [[ 82]\n",
      "   [ 88]\n",
      "   [ 86]\n",
      "   ...\n",
      "   [144]\n",
      "   [114]\n",
      "   [110]]\n",
      "\n",
      "  [[167]\n",
      "   [138]\n",
      "   [134]\n",
      "   ...\n",
      "   [ 85]\n",
      "   [128]\n",
      "   [119]]]\n",
      "\n",
      "\n",
      " [[[149]\n",
      "   [165]\n",
      "   [165]\n",
      "   ...\n",
      "   [ 85]\n",
      "   [ 85]\n",
      "   [ 82]]\n",
      "\n",
      "  [[ 86]\n",
      "   [ 86]\n",
      "   [ 84]\n",
      "   ...\n",
      "   [114]\n",
      "   [ 83]\n",
      "   [ 80]]\n",
      "\n",
      "  [[ 85]\n",
      "   [ 54]\n",
      "   [ 51]\n",
      "   ...\n",
      "   [ 95]\n",
      "   [131]\n",
      "   [124]]\n",
      "\n",
      "  ...\n",
      "\n",
      "  [[140]\n",
      "   [152]\n",
      "   [158]\n",
      "   ...\n",
      "   [  4]\n",
      "   [  4]\n",
      "   [  4]]\n",
      "\n",
      "  [[  3]\n",
      "   [  3]\n",
      "   [  3]\n",
      "   ...\n",
      "   [ 65]\n",
      "   [ 65]\n",
      "   [ 65]]\n",
      "\n",
      "  [[ 73]\n",
      "   [ 73]\n",
      "   [ 73]\n",
      "   ...\n",
      "   [194]\n",
      "   [173]\n",
      "   [171]]]\n",
      "\n",
      "\n",
      " [[[126]\n",
      "   [138]\n",
      "   [144]\n",
      "   ...\n",
      "   [ 10]\n",
      "   [ 10]\n",
      "   [ 10]]\n",
      "\n",
      "  [[  9]\n",
      "   [  9]\n",
      "   [  9]\n",
      "   ...\n",
      "   [ 61]\n",
      "   [ 61]\n",
      "   [ 61]]\n",
      "\n",
      "  [[ 62]\n",
      "   [ 62]\n",
      "   [ 62]\n",
      "   ...\n",
      "   [191]\n",
      "   [171]\n",
      "   [169]]\n",
      "\n",
      "  ...\n",
      "\n",
      "  [[ 63]\n",
      "   [ 85]\n",
      "   [ 96]\n",
      "   ...\n",
      "   [165]\n",
      "   [177]\n",
      "   [176]]\n",
      "\n",
      "  [[137]\n",
      "   [151]\n",
      "   [151]\n",
      "   ...\n",
      "   [ 72]\n",
      "   [ 96]\n",
      "   [ 91]]\n",
      "\n",
      "  [[ 79]\n",
      "   [102]\n",
      "   [ 97]\n",
      "   ...\n",
      "   [ 81]\n",
      "   [119]\n",
      "   [113]]]]\n"
     ]
    }
   ],
   "source": [
    "Xtest = []\n",
    "ytest = []\n",
    "\n",
    "for features,label in testing_data:\n",
    "    Xtest.append(features)\n",
    "    ytest.append(label)\n",
    "\n",
    "Xtest = np.array(Xtest).reshape(-1, IMG_SIZE, IMG_SIZE, 3)\n",
    "Xtest = Xtest/255.0\n",
    "ytest=np.array(ytest)"
   ]
  },
  {
   "cell_type": "code",
   "execution_count": 68,
   "metadata": {},
   "outputs": [],
   "source": [
    "from tensorflow.keras.utils import to_categorical\n",
    "ytest = to_categorical(ytest,2)"
   ]
  },
  {
   "cell_type": "code",
   "execution_count": 69,
   "metadata": {},
   "outputs": [],
   "source": [
    "Xtest = Xtest/255.0"
   ]
  },
  {
   "cell_type": "code",
   "execution_count": 70,
   "metadata": {},
   "outputs": [],
   "source": [
    "pred=model_final.predict(Xtest)"
   ]
  },
  {
   "cell_type": "code",
   "execution_count": 74,
   "metadata": {},
   "outputs": [],
   "source": [
    "y_classes = pred.argmax(axis=-1)"
   ]
  },
  {
   "cell_type": "code",
   "execution_count": 79,
   "metadata": {},
   "outputs": [
    {
     "name": "stdout",
     "output_type": "stream",
     "text": [
      "[[157  73]\n",
      " [ 21 209]]\n"
     ]
    },
    {
     "data": {
      "text/plain": [
       "0.7956521739130434"
      ]
     },
     "execution_count": 79,
     "metadata": {},
     "output_type": "execute_result"
    }
   ],
   "source": [
    "from sklearn.metrics import classification_report, confusion_matrix, accuracy_score\n",
    "print(confusion_matrix(ytest.argmax(axis=-1), y_classes))\n",
    "accuracy_score(ytest.argmax(axis=-1), y_classes)"
   ]
  },
  {
   "cell_type": "code",
   "execution_count": null,
   "metadata": {},
   "outputs": [],
   "source": []
  }
 ],
 "metadata": {
  "hide_input": false,
  "kernelspec": {
   "display_name": "Python 3",
   "language": "python",
   "name": "python3"
  },
  "language_info": {
   "codemirror_mode": {
    "name": "ipython",
    "version": 3
   },
   "file_extension": ".py",
   "mimetype": "text/x-python",
   "name": "python",
   "nbconvert_exporter": "python",
   "pygments_lexer": "ipython3",
   "version": "3.7.6"
  },
  "nbTranslate": {
   "displayLangs": [
    "*"
   ],
   "hotkey": "alt-t",
   "langInMainMenu": true,
   "sourceLang": "en",
   "targetLang": "fr",
   "useGoogleTranslate": true
  }
 },
 "nbformat": 4,
 "nbformat_minor": 4
}
